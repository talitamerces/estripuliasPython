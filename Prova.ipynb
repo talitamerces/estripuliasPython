{
 "cells": [
  {
   "cell_type": "markdown",
   "id": "3340eabd",
   "metadata": {},
   "source": [
    "## <div style=\"margin-top: -20px;\">\n",
    "<hr style=\"border: 0.25px solid gray;\">\n",
    "\n",
    "<center> <font color='purple'><span style=\"font-size: 15px;\"><strong>Questão 1</strong></span></font>\n",
    "\n",
    "<hr style=\"border:  0.25px solid gray;\">\n",
    "</div>\n",
    "    \n",
    "    \n",
    "    a = 3+5"
   ]
  },
  {
   "cell_type": "code",
   "execution_count": 8,
   "id": "80703892",
   "metadata": {
    "ExecuteTime": {
     "end_time": "2023-11-16T14:06:14.052536Z",
     "start_time": "2023-11-16T14:06:14.030420Z"
    }
   },
   "outputs": [],
   "source": [
    "a=3+5\n"
   ]
  },
  {
   "cell_type": "markdown",
   "id": "e9c45181",
   "metadata": {},
   "source": [
    "## <div style=\"margin-top: -20px;\">\n",
    "<hr style=\"border: 0.25px solid gray;\">\n",
    "\n",
    "<center> <font color='purple'><span style=\"font-size: 15px;\"><strong>Questão 2</strong></span></font>\n",
    "\n",
    "<hr style=\"border:  0.25px solid gray;\">\n",
    "</div>\n",
    "    \n",
    "    \n",
    "    a = 2*(3 + 4*2- 3*3)-5"
   ]
  },
  {
   "cell_type": "code",
   "execution_count": 15,
   "id": "63fc7eb2",
   "metadata": {
    "ExecuteTime": {
     "end_time": "2023-11-16T14:20:43.883280Z",
     "start_time": "2023-11-16T14:20:43.869812Z"
    }
   },
   "outputs": [
    {
     "data": {
      "text/plain": [
       "-1"
      ]
     },
     "execution_count": 15,
     "metadata": {},
     "output_type": "execute_result"
    }
   ],
   "source": [
    "a = 2*(3 + 4*2- 3*3)-5\n",
    "a"
   ]
  },
  {
   "cell_type": "code",
   "execution_count": null,
   "id": "85f6dbac",
   "metadata": {},
   "outputs": [],
   "source": []
  },
  {
   "cell_type": "code",
   "execution_count": null,
   "id": "ecd779bb",
   "metadata": {},
   "outputs": [],
   "source": []
  },
  {
   "cell_type": "markdown",
   "id": "e6590abb",
   "metadata": {},
   "source": [
    "## <div style=\"margin-top: -20px;\">\n",
    "<hr style=\"border: 0.25px solid gray;\">\n",
    "\n",
    "<center> <font color='purple'><span style=\"font-size: 15px;\"><strong>Questão 3</strong></span></font>\n",
    "\n",
    "<hr style=\"border:  0.25px solid gray;\">\n",
    "</div>\n",
    "    \n",
    "    \n",
    "    a = 2.5\n",
    "    type(a)"
   ]
  },
  {
   "cell_type": "code",
   "execution_count": 21,
   "id": "e686b0d2",
   "metadata": {
    "ExecuteTime": {
     "end_time": "2023-11-16T15:09:41.534881Z",
     "start_time": "2023-11-16T15:09:41.507250Z"
    }
   },
   "outputs": [
    {
     "data": {
      "text/plain": [
       "float"
      ]
     },
     "execution_count": 21,
     "metadata": {},
     "output_type": "execute_result"
    }
   ],
   "source": [
    "aa = 2.5\n",
    "type(aa)"
   ]
  },
  {
   "cell_type": "markdown",
   "id": "ac03b313",
   "metadata": {
    "ExecuteTime": {
     "end_time": "2023-11-16T15:10:16.462857Z",
     "start_time": "2023-11-16T15:10:16.435664Z"
    }
   },
   "source": [
    "# <div style=\"margin-top: -20px;\">\n",
    "<hr style=\"border: 0.25px solid gray;\">\n",
    "\n",
    "<center> <font color='purple'><span style=\"font-size: 15px;\"><strong>Questão 4</strong></span></font>\n",
    "\n",
    "<hr style=\"border:  0.25px solid gray;\">\n",
    "</div>\n",
    "    \n",
    " "
   ]
  },
  {
   "cell_type": "code",
   "execution_count": 38,
   "id": "be76aec6",
   "metadata": {
    "ExecuteTime": {
     "end_time": "2023-11-16T15:16:05.090875Z",
     "start_time": "2023-11-16T15:16:05.081128Z"
    }
   },
   "outputs": [
    {
     "data": {
      "text/plain": [
       "int"
      ]
     },
     "execution_count": 38,
     "metadata": {},
     "output_type": "execute_result"
    }
   ],
   "source": [
    "aaa = 15.31\n",
    "copo = True\n",
    "c1 = '123'\n",
    "###1_d = 2\n",
    "e = int(c1)\n",
    "type(e)"
   ]
  },
  {
   "cell_type": "markdown",
   "id": "72610c5f",
   "metadata": {
    "ExecuteTime": {
     "end_time": "2023-11-16T15:18:25.026981Z",
     "start_time": "2023-11-16T15:18:25.017491Z"
    }
   },
   "source": [
    "# <div style=\"margin-top: -20px;\">\n",
    "<hr style=\"border: 0.25px solid gray;\">\n",
    "\n",
    "<center> <font color='purple'><span style=\"font-size: 15px;\"><strong>Questão 6</strong></span></font>\n",
    "\n",
    "<hr style=\"border:  0.25px solid gray;\">\n",
    "</div>\n",
    "    \n",
    " "
   ]
  },
  {
   "cell_type": "code",
   "execution_count": 54,
   "id": "5d7620d7",
   "metadata": {
    "ExecuteTime": {
     "end_time": "2023-11-16T15:28:25.320010Z",
     "start_time": "2023-11-16T15:28:25.310016Z"
    }
   },
   "outputs": [
    {
     "name": "stdout",
     "output_type": "stream",
     "text": [
      "3\n",
      "6\n",
      "9\n",
      "12\n",
      "15\n",
      "18\n"
     ]
    }
   ],
   "source": [
    "lista = list(range(1,20))\n",
    "for numero in lista:\n",
    "    if numero % 3 == 0:\n",
    "        print(numero)\n",
    "    "
   ]
  },
  {
   "cell_type": "markdown",
   "id": "39ffdb3d",
   "metadata": {
    "ExecuteTime": {
     "end_time": "2023-11-16T15:28:42.578011Z",
     "start_time": "2023-11-16T15:28:42.565122Z"
    }
   },
   "source": [
    "# <div style=\"margin-top: -20px;\">\n",
    "<hr style=\"border: 0.25px solid gray;\">\n",
    "\n",
    "<center> <font color='purple'><span style=\"font-size: 15px;\"><strong>Questão 7</strong></span></font>\n",
    "\n",
    "<hr style=\"border:  0.25px solid gray;\">\n",
    "</div>\n",
    "    \n",
    " "
   ]
  },
  {
   "cell_type": "code",
   "execution_count": 59,
   "id": "40c71e4d",
   "metadata": {
    "ExecuteTime": {
     "end_time": "2023-11-16T15:31:17.026342Z",
     "start_time": "2023-11-16T15:31:17.019045Z"
    }
   },
   "outputs": [
    {
     "name": "stdout",
     "output_type": "stream",
     "text": [
      "eu tenho 2 metros de altura.\n"
     ]
    }
   ],
   "source": [
    "# célula 1\n",
    "altura = 2.03\n",
    "print(f\"eu tenho {int(altura)} metros de altura.\")"
   ]
  },
  {
   "cell_type": "markdown",
   "id": "2a7a9d37",
   "metadata": {},
   "source": [
    "# <div style=\"margin-top: -20px;\">\n",
    "<hr style=\"border: 0.25px solid gray;\">\n",
    "\n",
    "<center> <font color='purple'><span style=\"font-size: 15px;\"><strong>Questão 8</strong></span></font>\n",
    "\n",
    "<hr style=\"border:  0.25px solid gray;\">\n",
    "</div>\n",
    "    \n",
    " "
   ]
  },
  {
   "cell_type": "code",
   "execution_count": 60,
   "id": "52273324",
   "metadata": {
    "ExecuteTime": {
     "end_time": "2023-11-16T15:37:37.333818Z",
     "start_time": "2023-11-16T15:37:37.305110Z"
    }
   },
   "outputs": [],
   "source": [
    "# in \n",
    "palavra = 'Paralelepípedo'"
   ]
  },
  {
   "cell_type": "code",
   "execution_count": 67,
   "id": "2b61f157",
   "metadata": {
    "ExecuteTime": {
     "end_time": "2023-11-16T15:40:59.284798Z",
     "start_time": "2023-11-16T15:40:59.274822Z"
    }
   },
   "outputs": [
    {
     "name": "stdout",
     "output_type": "stream",
     "text": [
      "2\n"
     ]
    }
   ],
   "source": [
    "resultado = palavra.count('p')\n",
    "print(resultado)"
   ]
  },
  {
   "cell_type": "code",
   "execution_count": 73,
   "id": "becfebf2",
   "metadata": {
    "ExecuteTime": {
     "end_time": "2023-11-16T15:49:32.462727Z",
     "start_time": "2023-11-16T15:49:32.452927Z"
    }
   },
   "outputs": [
    {
     "name": "stdout",
     "output_type": "stream",
     "text": [
      "Matemática (dos termos gregos: μάθημα, transliterado máthēma, 'ciência', conhecimento' ou 'aprendizagem[1]; e μαθηματικός, transliterado mathēmatikós, 'inclinado a aprender') é a ciência do raciocínio lógico e abstrato, que estuda quantidades (teoria dos números), espaço e medidas (geometria), estruturas, variações[2] e estatística.[3][4][5] Não há, porém, uma definição consensual por parte da comunidade científica.[6][7] O trabalho matemático consiste em procurar e relacionar padrões,[8][9] de modo a formular conjecturas[10] cuja veracidade ou falsidade é provada por meio de deduções rigorosas, a partir de axiomas e definições. A matemática desenvolveu-se principalmente na Mesopotâmia, no Egito, na Grécia, na Índia e no Oriente Médio. Após a Renascença, o desenvolvimento da matemática intensificou-se na Europa, quando novas descobertas científicas levaram a um acúmulo rápido de conhecimento que dura até os dias de hoje.[11]\n"
     ]
    }
   ],
   "source": [
    "#célula 1\n",
    "#imprima o texto\n",
    "texto = \"Matemática (dos termos gregos: μάθημα, transliterado máthēma, 'ciência', conhecimento' ou 'aprendizagem[1]; e μαθηματικός, transliterado mathēmatikós, 'inclinado a aprender') é a ciência do raciocínio lógico e abstrato, que estuda quantidades (teoria dos números), espaço e medidas (geometria), estruturas, variações[2] e estatística.[3][4][5] Não há, porém, uma definição consensual por parte da comunidade científica.[6][7] O trabalho matemático consiste em procurar e relacionar padrões,[8][9] de modo a formular conjecturas[10] cuja veracidade ou falsidade é provada por meio de deduções rigorosas, a partir de axiomas e definições. A matemática desenvolveu-se principalmente na Mesopotâmia, no Egito, na Grécia, na Índia e no Oriente Médio. Após a Renascença, o desenvolvimento da matemática intensificou-se na Europa, quando novas descobertas científicas levaram a um acúmulo rápido de conhecimento que dura até os dias de hoje.[11]\"\n",
    "print(texto)"
   ]
  },
  {
   "cell_type": "code",
   "execution_count": 76,
   "id": "cf9308c2",
   "metadata": {
    "ExecuteTime": {
     "end_time": "2023-11-16T15:55:35.502157Z",
     "start_time": "2023-11-16T15:55:35.466226Z"
    }
   },
   "outputs": [
    {
     "name": "stdout",
     "output_type": "stream",
     "text": [
      "A palavra \"matemática\"  (incluindo maiúsculas e minúsculas) ocorre 3 vezes no texto.\n"
     ]
    }
   ],
   "source": [
    "#célula 2\n",
    "#Conte quantas vezes a palavra matemática ocorreu nele (incluindo maiúsculas e minúsculas)\n",
    "\n",
    "# Inicializando o contador\n",
    "contador = 0\n",
    "\n",
    "# Iterando sobre as palavras no texto\n",
    "palavras = texto.split()  # Divide o texto em palavras\n",
    "for palavra in palavras:\n",
    "    # Verifica se a palavra é igual à palavra procurada, ignorando o caso\n",
    "    if palavra == 'Matemática' or palavra == 'matemática':\n",
    "        contador += 1\n",
    "\n",
    "print(f'A palavra \"matemática\"  (incluindo maiúsculas e minúsculas) ocorre {contador} vezes no texto.')"
   ]
  },
  {
   "cell_type": "code",
   "execution_count": 84,
   "id": "3ed8b6a3",
   "metadata": {
    "ExecuteTime": {
     "end_time": "2023-11-16T16:06:09.081486Z",
     "start_time": "2023-11-16T16:06:09.066475Z"
    }
   },
   "outputs": [
    {
     "name": "stdout",
     "output_type": "stream",
     "text": [
      "|MATEMÁTICA| (dos termos gregos: μάθημα, transliterado máthēma, 'ciência', conhecimento' ou 'aprendizagem[1]; e μαθηματικός, transliterado mathēmatikós, 'inclinado a aprender') é a ciência do raciocínio lógico e abstrato, que estuda quantidades (teoria dos números), espaço e medidas (geometria), estruturas, variações[2] e estatística.[3][4][5] Não há, porém, uma definição consensual por parte da comunidade científica.[6][7] O trabalho matemático consiste em procurar e relacionar padrões,[8][9] de modo a formular conjecturas[10] cuja veracidade ou falsidade é provada por meio de deduções rigorosas, a partir de axiomas e definições. A |MATEMÁTICA| desenvolveu-se principalmente na Mesopotâmia, no Egito, na Grécia, na Índia e no Oriente Médio. Após a Renascença, o desenvolvimento da |MATEMÁTICA| intensificou-se na Europa, quando novas descobertas científicas levaram a um acúmulo rápido de conhecimento que dura até os dias de hoje.[11]\n"
     ]
    }
   ],
   "source": [
    "#célula 3\n",
    "#Repasse todas as palavas obtidas na tarefa \"2\" para |MATEMÁTICA| (entre barras verticais). E imprima o texto formatado.\n",
    "# Palavra que estamos procurando\n",
    "palavra_procurada1 = \"matemática\"\n",
    "palavra_procurada2 = \"Matemática\"\n",
    "\n",
    "# Substituindo todas as ocorrências da palavra no texto\n",
    "texto_formatado = texto.replace(palavra_procurada1, f'|{palavra_procurada1.upper()}|')\n",
    "texto_formatado = texto_formatado.replace(palavra_procurada2, f'|{palavra_procurada2.upper()}|')\n",
    "\n",
    "# Imprimindo o texto formatado\n",
    "print(texto_formatado)"
   ]
  },
  {
   "cell_type": "code",
   "execution_count": 88,
   "id": "948bfc0e",
   "metadata": {
    "ExecuteTime": {
     "end_time": "2023-11-16T16:14:26.594781Z",
     "start_time": "2023-11-16T16:14:26.578617Z"
    }
   },
   "outputs": [
    {
     "name": "stdout",
     "output_type": "stream",
     "text": [
      "Matemática (dos termos gregos: μάθημα, transliterado máthēma, 'ciência', conhecimento' ou 'aprendizagem[1]; e μαθηματικός, transliterado mathēmatikós, 'inclinado a aprender') é a ciência do raciocínio lógico e abstrato, que estuda quantidades (teoria dos números), espaço e medidas (geometria), estruturas, variações[2] e estatística.[3][4][5] Não há, porém, uma definição consensual por parte da comunidade científica.[6][7] O trabalho matemático consiste em procurar e relacionar padrões,[8][9] de modo a formular conjecturas[10] cuja veracidade ou falsidade é provada por meio de deduções rigorosas, a partir de axiomas e definições. A matemática desenvolveu-se principalmente na Mesopotâmia, no Egito, na Grécia, na Índia e no Oriente Médio. Após a Renascença, o desenvolvimento da matemática intensificou-se na Europa, quando novas descobertas científicas levaram a um acúmulo rápido de conhecimento que dura até os dias de hoje.[11]\n",
      "A palavra \"matemática\"  (incluindo maiúsculas e minúsculas) ocorre 3 vezes no texto.\n",
      "|MATEMÁTICA| (dos termos gregos: μάθημα, transliterado máthēma, 'ciência', conhecimento' ou 'aprendizagem[1]; e μαθηματικός, transliterado mathēmatikós, 'inclinado a aprender') é a ciência do raciocínio lógico e abstrato, que estuda quantidades (teoria dos números), espaço e medidas (geometria), estruturas, variações[2] e estatística.[3][4][5] Não há, porém, uma definição consensual por parte da comunidade científica.[6][7] O trabalho matemático consiste em procurar e relacionar padrões,[8][9] de modo a formular conjecturas[10] cuja veracidade ou falsidade é provada por meio de deduções rigorosas, a partir de axiomas e definições. A |MATEMÁTICA| desenvolveu-se principalmente na Mesopotâmia, no Egito, na Grécia, na Índia e no Oriente Médio. Após a Renascença, o desenvolvimento da |MATEMÁTICA| intensificou-se na Europa, quando novas descobertas científicas levaram a um acúmulo rápido de conhecimento que dura até os dias de hoje.[11]\n"
     ]
    }
   ],
   "source": [
    "#imprima o texto\n",
    "texto = \"Matemática (dos termos gregos: μάθημα, transliterado máthēma, 'ciência', conhecimento' ou 'aprendizagem[1]; e μαθηματικός, transliterado mathēmatikós, 'inclinado a aprender') é a ciência do raciocínio lógico e abstrato, que estuda quantidades (teoria dos números), espaço e medidas (geometria), estruturas, variações[2] e estatística.[3][4][5] Não há, porém, uma definição consensual por parte da comunidade científica.[6][7] O trabalho matemático consiste em procurar e relacionar padrões,[8][9] de modo a formular conjecturas[10] cuja veracidade ou falsidade é provada por meio de deduções rigorosas, a partir de axiomas e definições. A matemática desenvolveu-se principalmente na Mesopotâmia, no Egito, na Grécia, na Índia e no Oriente Médio. Após a Renascença, o desenvolvimento da matemática intensificou-se na Europa, quando novas descobertas científicas levaram a um acúmulo rápido de conhecimento que dura até os dias de hoje.[11]\"\n",
    "print(texto)\n",
    "\n",
    "\n",
    "#Conte quantas vezes a palavra matemática ocorreu nele (incluindo maiúsculas e minúsculas)\n",
    "# Inicializando o contador\n",
    "contador = 0\n",
    "\n",
    "# variável auxiliar\n",
    "texto_aux = texto\n",
    "\n",
    "# Iterando sobre as palavras no texto\n",
    "palavras = texto_aux.split()  # Divide o texto em palavras\n",
    "for palavra in palavras:\n",
    "    # Verifica se a palavra é igual à palavra procurada, ignorando o caso\n",
    "    if palavra == 'Matemática' or palavra == 'matemática':\n",
    "        contador += 1\n",
    "\n",
    "print(f'A palavra \"matemática\"  (incluindo maiúsculas e minúsculas) ocorre {contador} vezes no texto.')\n",
    "\n",
    "#Repasse todas as palavas obtidas na tarefa \"2\" para |MATEMÁTICA| (entre barras verticais). E imprima o texto formatado.\n",
    "# Palavra que estamos procurando\n",
    "palavra_procurada1 = \"matemática\"\n",
    "palavra_procurada2 = \"Matemática\"\n",
    "\n",
    "# Substituindo todas as ocorrências da palavra no texto\n",
    "texto_formatado = texto.replace(palavra_procurada1, f'|{palavra_procurada1.upper()}|')\n",
    "texto_formatado = texto_formatado.replace(palavra_procurada2, f'|{palavra_procurada2.upper()}|')\n",
    "\n",
    "# Imprimindo o texto formatado\n",
    "print(texto_formatado)\n"
   ]
  },
  {
   "cell_type": "markdown",
   "id": "39c4c1f5",
   "metadata": {
    "ExecuteTime": {
     "end_time": "2023-11-16T16:16:09.123115Z",
     "start_time": "2023-11-16T16:16:09.112765Z"
    }
   },
   "source": [
    "# <div style=\"margin-top: -20px;\">\n",
    "<hr style=\"border: 0.25px solid gray;\">\n",
    "\n",
    "<center> <font color='purple'><span style=\"font-size: 15px;\"><strong>Questão 10</strong></span></font>\n",
    "\n",
    "<hr style=\"border:  0.25px solid gray;\">\n",
    "</div>\n",
    "    \n",
    " "
   ]
  },
  {
   "cell_type": "code",
   "execution_count": 90,
   "id": "e3db4b2e",
   "metadata": {
    "ExecuteTime": {
     "end_time": "2023-11-16T16:16:30.387840Z",
     "start_time": "2023-11-16T16:16:30.368423Z"
    }
   },
   "outputs": [
    {
     "name": "stdout",
     "output_type": "stream",
     "text": [
      "O resultado da divisão de 3 por 7, com duas casas decimais, é 0.43.\n",
      "O resultado da divisão de 4 por 7, com duas casas decimais, é 0.57.\n",
      "O resultado da divisão de 5 por 7, com duas casas decimais, é 0.71.\n",
      "O resultado da divisão de 6 por 7, com duas casas decimais, é 0.86.\n",
      "O resultado da divisão de 7 por 7, com duas casas decimais, é 1.0.\n",
      "O resultado da divisão de 8 por 7, com duas casas decimais, é 1.14.\n",
      "O resultado da divisão de 9 por 7, com duas casas decimais, é 1.29.\n",
      "O resultado da divisão de 10 por 7, com duas casas decimais, é 1.43.\n",
      "O resultado da divisão de 11 por 7, com duas casas decimais, é 1.57.\n",
      "O resultado da divisão de 12 por 7, com duas casas decimais, é 1.71.\n",
      "O resultado da divisão de 13 por 7, com duas casas decimais, é 1.86.\n",
      "O resultado da divisão de 14 por 7, com duas casas decimais, é 2.0.\n"
     ]
    }
   ],
   "source": [
    "valores = [3, 4, 5, 6, 7, 8, 9, 10, 11, 12, 13, 14]\n",
    "divisor = 7\n",
    "\n",
    "for valor in valores:\n",
    "    resultado = valor / divisor\n",
    "    resultado_formatado = round(resultado, 2)  # Arredonda o resultado para duas casas decimais\n",
    "    print(f'O resultado da divisão de {valor} por {divisor}, com duas casas decimais, é {resultado_formatado}.')\n"
   ]
  },
  {
   "cell_type": "code",
   "execution_count": null,
   "id": "21d37ac4",
   "metadata": {},
   "outputs": [],
   "source": []
  }
 ],
 "metadata": {
  "kernelspec": {
   "display_name": "Python 3 (ipykernel)",
   "language": "python",
   "name": "python3"
  },
  "language_info": {
   "codemirror_mode": {
    "name": "ipython",
    "version": 3
   },
   "file_extension": ".py",
   "mimetype": "text/x-python",
   "name": "python",
   "nbconvert_exporter": "python",
   "pygments_lexer": "ipython3",
   "version": "3.11.5"
  }
 },
 "nbformat": 4,
 "nbformat_minor": 5
}
